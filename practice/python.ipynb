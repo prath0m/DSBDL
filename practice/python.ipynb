{
 "cells": [
  {
   "cell_type": "code",
   "execution_count": null,
   "id": "8c708538",
   "metadata": {},
   "outputs": [],
   "source": [
    "from bs4 import BeautifulSoup\n",
    "\n",
    "from open (\"MYNTRA.html\", \"r\", encoding = \"utf-8\") as file:\n",
    "    soup = BeautifulSoup(file, \"lxml\")\n",
    "    \n",
    "    reviews = soup.find_all(\"div\", class_= \"user-review-user review-wrapper\")\n",
    "    \n",
    "    with open(\"review.txt\", \"w\", encoding = \"utf-8\") as f:\n",
    "        for review in reviews:\n",
    "            name = review.select_one(\"user-review-left span\")\n",
    "            rating = review.select_one(\"user-review-left span\")\n",
    "            comment = review.select_one(\"user-review-left span\")\n",
    "            \n",
    "            f.write(f\"Name: {name.get_text(strip.true) if name else 'N/A' }\\n\")\n",
    "            f.write(f\"Comment: {comment.get_text(strip.true) if Comment else 'N/A' }\\n\")\n",
    "            f.write(f\"Rating: {rating.get_text(strip.true) if rating else 'N/A' }\\n\")\n",
    "            f.write(\"-\" * 20 + \"\\n\")\n",
    "            \n",
    "print(\"Reviews have been extracted and saved to review.txt\")            "
   ]
  }
 ],
 "metadata": {
  "language_info": {
   "name": "python"
  }
 },
 "nbformat": 4,
 "nbformat_minor": 5
}
