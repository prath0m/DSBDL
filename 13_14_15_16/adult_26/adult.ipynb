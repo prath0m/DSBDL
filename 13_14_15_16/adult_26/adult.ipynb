{
 "cells": [
  {
   "cell_type": "code",
   "execution_count": null,
   "metadata": {},
   "outputs": [],
   "source": [
    "import pandas as pd\n",
    "from sklearn.model_selection import train_test_split\n",
    "from sklearn.preprocessing import StandardScaler, LabelEncoder\n",
    "from sklearn.linear_model import LogisticRegression\n",
    "from sklearn.naive_bayes import GaussianNB\n",
    "from sklearn.metrics import accuracy_score\n",
    "import numpy as np\n",
    "\n",
    "# Load dataset\n",
    "df = pd.read_csv(\"adult_dataset.csv\")\n",
    "\n",
    "# m. Data cleaning: remove missing values ('?') and negative numbers\n",
    "df = df.replace(' ?', pd.NA).dropna()\n",
    "df = df[(df.select_dtypes(include='number') >= 0).all(axis=1)]\n",
    "\n",
    "# n. Error correcting: Outlier removal using Z-score method\n",
    "numeric_cols = df.select_dtypes(include='number').columns\n",
    "z_scores = np.abs((df[numeric_cols] - df[numeric_cols].mean()) / df[numeric_cols].std())\n",
    "df = df[(z_scores < 3).all(axis=1)]\n",
    "\n",
    "# o. Data transformation: Encode categorical variables and scale features\n",
    "for col in df.select_dtypes(include='object').columns:\n",
    "    df[col] = LabelEncoder().fit_transform(df[col])\n",
    "\n",
    "X = df.drop(\"income\", axis=1)\n",
    "y = df[\"income\"]\n",
    "\n",
    "scaler = StandardScaler()\n",
    "X_scaled = scaler.fit_transform(X)\n",
    "\n",
    "# p. Build data models and compare accuracy\n",
    "X_train, X_test, y_train, y_test = train_test_split(X_scaled, y, test_size=0.2, random_state=42)\n",
    "\n",
    "# Logistic Regression\n",
    "lr = LogisticRegression()\n",
    "lr.fit(X_train, y_train)\n",
    "lr_acc = accuracy_score(y_test, lr.predict(X_test))\n",
    "\n",
    "# Naive Bayes\n",
    "nb = GaussianNB()\n",
    "nb.fit(X_train, y_train)\n",
    "nb_acc = accuracy_score(y_test, nb.predict(X_test))\n",
    "\n",
    "# Print results\n",
    "print(f\"Logistic Regression Accuracy: {lr_acc * 100:.2f}%\")\n",
    "print(f\"Naive Bayes Accuracy: {nb_acc * 100:.2f}%\")\n"
   ]
  }
 ],
 "metadata": {
  "kernelspec": {
   "display_name": "Python 3",
   "language": "python",
   "name": "python3"
  },
  "language_info": {
   "name": "python",
   "version": "3.9.13"
  }
 },
 "nbformat": 4,
 "nbformat_minor": 2
}
