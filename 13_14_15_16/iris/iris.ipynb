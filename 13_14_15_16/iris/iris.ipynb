{
 "cells": [
  {
   "cell_type": "code",
   "execution_count": 1,
   "metadata": {},
   "outputs": [
    {
     "name": "stdout",
     "output_type": "stream",
     "text": [
      "Logistic Regression Accuracy: 100.00%\n",
      "Naïve Bayes Accuracy: 100.00%\n"
     ]
    }
   ],
   "source": [
    "import pandas as pd\n",
    "from sklearn.model_selection import train_test_split\n",
    "from sklearn.preprocessing import StandardScaler\n",
    "from sklearn.linear_model import LogisticRegression\n",
    "from sklearn.naive_bayes import GaussianNB\n",
    "from sklearn.metrics import accuracy_score\n",
    "import numpy as np\n",
    "\n",
    "# Load dataset\n",
    "df = pd.read_csv(\"iris.csv\")\n",
    "\n",
    "# Basic cleaning: remove missing or negative values\n",
    "df = df.dropna()\n",
    "df = df[(df.select_dtypes(include='number') >= 0).all(axis=1)]\n",
    "\n",
    "# Error correcting: remove outliers using Z-score method\n",
    "z_scores = np.abs((df.select_dtypes(include='number') - df.mean(numeric_only=True)) / df.std(numeric_only=True))\n",
    "df = df[(z_scores < 3).all(axis=1)]\n",
    "\n",
    "# Features and target\n",
    "X = df.drop(\"variety\", axis=1)\n",
    "y = df[\"variety\"]\n",
    "\n",
    "# Scale features\n",
    "scaler = StandardScaler()\n",
    "X_scaled = scaler.fit_transform(X)\n",
    "\n",
    "# Train/test split\n",
    "X_train, X_test, y_train, y_test = train_test_split(X_scaled, y, test_size=0.2, random_state=42)\n",
    "\n",
    "# Logistic Regression\n",
    "lr = LogisticRegression()\n",
    "lr.fit(X_train, y_train)\n",
    "lr_acc = accuracy_score(y_test, lr.predict(X_test))\n",
    "\n",
    "# Naive Bayes\n",
    "nb = GaussianNB()\n",
    "nb.fit(X_train, y_train)\n",
    "nb_acc = accuracy_score(y_test, nb.predict(X_test))\n",
    "\n",
    "# Output results\n",
    "print(f\"Logistic Regression Accuracy: {lr_acc * 100:.2f}%\")\n",
    "print(f\"Naïve Bayes Accuracy: {nb_acc * 100:.2f}%\")\n"
   ]
  }
 ],
 "metadata": {
  "kernelspec": {
   "display_name": "Python 3",
   "language": "python",
   "name": "python3"
  },
  "language_info": {
   "codemirror_mode": {
    "name": "ipython",
    "version": 3
   },
   "file_extension": ".py",
   "mimetype": "text/x-python",
   "name": "python",
   "nbconvert_exporter": "python",
   "pygments_lexer": "ipython3",
   "version": "3.9.13"
  }
 },
 "nbformat": 4,
 "nbformat_minor": 2
}
