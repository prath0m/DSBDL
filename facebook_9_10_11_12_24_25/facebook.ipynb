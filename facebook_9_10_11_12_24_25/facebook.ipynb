{
 "cells": [
  {
   "cell_type": "code",
   "execution_count": null,
   "metadata": {},
   "outputs": [],
   "source": [
    "import pandas as pd\n",
    "\n",
    "# Load the dataset\n",
    "df = pd.read_csv(\"newfb.csv\")\n",
    "\n",
    "# a. Create data subsets for type of post\n",
    "status_posts = df[df['Type'] == 'Status']\n",
    "photo_posts = df[df['Type'] == 'Photo']\n",
    "\n",
    "# b. Merge two subsets\n",
    "merged_posts = pd.concat([status_posts, photo_posts])\n",
    "\n",
    "print(\"Merged Subset:\\n\", merged_posts.head())\n"
   ]
  },
  {
   "cell_type": "code",
   "execution_count": null,
   "metadata": {},
   "outputs": [],
   "source": [
    "sorted_df = df.sort_values(by='Page total likes', ascending=False)\n",
    "print(\"\\nSorted by Page Total Likes:\\n\", sorted_df[['Page total likes', 'Type']].head())\n"
   ]
  },
  {
   "cell_type": "code",
   "execution_count": null,
   "metadata": {},
   "outputs": [],
   "source": [
    "# d. Transposing Data (showing only first 5 rows)\n",
    "transposed_df = df.head().T\n",
    "# Print results (for example)\n",
    "print(\"\\nTransposed Data (First 5 Rows):\\n\", transposed_df)\n"
   ]
  },
  {
   "cell_type": "code",
   "execution_count": null,
   "metadata": {},
   "outputs": [],
   "source": [
    "# e. Melting Data to long format\n",
    "melted_df = pd.melt(\n",
    "    df,\n",
    "    id_vars=['Type', 'Category'],\n",
    "    value_vars=['comment', 'like', 'share'],\n",
    "    var_name='Interaction Type',\n",
    "    value_name='Value'\n",
    ")\n",
    "\n",
    "print(\"\\nMelted Data:\\n\", melted_df.head())"
   ]
  },
  {
   "cell_type": "code",
   "execution_count": null,
   "metadata": {},
   "outputs": [],
   "source": [
    "\n",
    "\n",
    "# f. Casting data to wide format (pivoting back)\n",
    "cast_df = melted_df.pivot_table(\n",
    "    index=['Type', 'Category'],\n",
    "    columns='Interaction Type',\n",
    "    values='Value',\n",
    "    aggfunc='mean'\n",
    ").reset_index()\n",
    "\n",
    "print(\"\\nCast Data (Wide Format):\\n\", cast_df)"
   ]
  }
 ],
 "metadata": {
  "kernelspec": {
   "display_name": "Python 3",
   "language": "python",
   "name": "python3"
  },
  "language_info": {
   "codemirror_mode": {
    "name": "ipython",
    "version": 3
   },
   "file_extension": ".py",
   "mimetype": "text/x-python",
   "name": "python",
   "nbconvert_exporter": "python",
   "pygments_lexer": "ipython3",
   "version": "3.9.13"
  }
 },
 "nbformat": 4,
 "nbformat_minor": 2
}
