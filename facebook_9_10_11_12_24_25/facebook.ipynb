{
 "cells": [
  {
   "cell_type": "code",
   "execution_count": 4,
   "metadata": {},
   "outputs": [
    {
     "name": "stdout",
     "output_type": "stream",
     "text": [
      "Merged Subset:\n",
      "     Page total likes    Type  Category  Post Month  Post Weekday  Post Hour  \\\n",
      "0             136013  Status         2          10             5          3   \n",
      "3             136013  Status         3          10             3         10   \n",
      "4             136013  Status         2          10             3          2   \n",
      "10            135713  Status         2          10             7          4   \n",
      "25            135617  Status         2           9             6          4   \n",
      "\n",
      "    Paid  Lifetime Post Total Reach  Lifetime Post Total Impressions  \\\n",
      "0      0                       8896                            17202   \n",
      "3      0                      13152                            25666   \n",
      "4      1                      31136                            59964   \n",
      "10     0                      10744                            20691   \n",
      "25     0                      11096                            21080   \n",
      "\n",
      "    Lifetime Engaged Users  Lifetime Post Consumers  \\\n",
      "0                     1480                     1426   \n",
      "3                     2543                     2438   \n",
      "4                     6164                     5934   \n",
      "10                    1967                     1877   \n",
      "25                    1843                     1724   \n",
      "\n",
      "    Lifetime Post Consumptions  \\\n",
      "0                         1932   \n",
      "3                         3179   \n",
      "4                         9237   \n",
      "10                        2201   \n",
      "25                        2106   \n",
      "\n",
      "    Lifetime Post Impressions by people who have liked your Page  \\\n",
      "0                                               13838              \n",
      "3                                               20547              \n",
      "4                                               35977              \n",
      "10                                              17502              \n",
      "25                                              16095              \n",
      "\n",
      "    Lifetime Post reach by people who like your Page  \\\n",
      "0                                               7020   \n",
      "3                                              10280   \n",
      "4                                              18048   \n",
      "10                                              8964   \n",
      "25                                              8120   \n",
      "\n",
      "    Lifetime People who have liked your Page and engaged with your post  \\\n",
      "0                                                1292                     \n",
      "3                                                2278                     \n",
      "4                                                4376                     \n",
      "10                                               1834                     \n",
      "25                                               1604                     \n",
      "\n",
      "    comment  like  share  Total Interactions  \n",
      "0         0   129   25.0                 154  \n",
      "3         2   227   36.0                 265  \n",
      "4        60   859   90.0                1009  \n",
      "10        3   148   28.0                 179  \n",
      "25        4   243   41.0                 288  \n"
     ]
    }
   ],
   "source": [
    "import pandas as pd\n",
    "\n",
    "# Load the dataset\n",
    "df = pd.read_csv(\"newfb.csv\")\n",
    "\n",
    "# a. Create data subsets for type of post\n",
    "status_posts = df[df['Type'] == 'Status']\n",
    "photo_posts = df[df['Type'] == 'Photo']\n",
    "\n",
    "# b. Merge two subsets\n",
    "merged_posts = pd.concat([status_posts, photo_posts])\n",
    "\n",
    "print(\"Merged Subset:\\n\", merged_posts.head())\n"
   ]
  },
  {
   "cell_type": "code",
   "execution_count": 5,
   "metadata": {},
   "outputs": [
    {
     "name": "stdout",
     "output_type": "stream",
     "text": [
      "\n",
      "Sorted by Page Total Likes:\n",
      "    Page total likes    Type\n",
      "0            136013  Status\n",
      "2            136013    Link\n",
      "3            136013  Status\n",
      "4            136013  Status\n",
      "5            136013   Photo\n"
     ]
    }
   ],
   "source": [
    "sorted_df = df.sort_values(by='Page total likes', ascending=False)\n",
    "print(\"\\nSorted by Page Total Likes:\\n\", sorted_df[['Page total likes', 'Type']].head())\n"
   ]
  },
  {
   "cell_type": "code",
   "execution_count": 6,
   "metadata": {},
   "outputs": [
    {
     "name": "stdout",
     "output_type": "stream",
     "text": [
      "\n",
      "Transposed Data (First 5 Rows):\n",
      "                                                          0       1       2  \\\n",
      "Page total likes                                    136013  136013  136013   \n",
      "Type                                                Status   Photo    Link   \n",
      "Category                                                 2       1       1   \n",
      "Post Month                                              10      10      10   \n",
      "Post Weekday                                             5       4       4   \n",
      "Post Hour                                                3      10       3   \n",
      "Paid                                                     0       1       0   \n",
      "Lifetime Post Total Reach                             8896    4018   68992   \n",
      "Lifetime Post Total Impressions                      17202    8617  229733   \n",
      "Lifetime Engaged Users                                1480     428    1032   \n",
      "Lifetime Post Consumers                               1426     374     975   \n",
      "Lifetime Post Consumptions                            1932     616    1345   \n",
      "Lifetime Post Impressions by people who have li...   13838    6677   17842   \n",
      "Lifetime Post reach by people who like your Page      7020    2992    8032   \n",
      "Lifetime People who have liked your Page and en...    1292     351     635   \n",
      "comment                                                  0       4      15   \n",
      "like                                                   129      77     143   \n",
      "share                                                 25.0    19.0    44.0   \n",
      "Total Interactions                                     154     100     202   \n",
      "\n",
      "                                                         3       4  \n",
      "Page total likes                                    136013  136013  \n",
      "Type                                                Status  Status  \n",
      "Category                                                 3       2  \n",
      "Post Month                                              10      10  \n",
      "Post Weekday                                             3       3  \n",
      "Post Hour                                               10       2  \n",
      "Paid                                                     0       1  \n",
      "Lifetime Post Total Reach                            13152   31136  \n",
      "Lifetime Post Total Impressions                      25666   59964  \n",
      "Lifetime Engaged Users                                2543    6164  \n",
      "Lifetime Post Consumers                               2438    5934  \n",
      "Lifetime Post Consumptions                            3179    9237  \n",
      "Lifetime Post Impressions by people who have li...   20547   35977  \n",
      "Lifetime Post reach by people who like your Page     10280   18048  \n",
      "Lifetime People who have liked your Page and en...    2278    4376  \n",
      "comment                                                  2      60  \n",
      "like                                                   227     859  \n",
      "share                                                 36.0    90.0  \n",
      "Total Interactions                                     265    1009  \n"
     ]
    }
   ],
   "source": [
    "# d. Transposing Data (showing only first 5 rows)\n",
    "transposed_df = df.head().T\n",
    "# Print results (for example)\n",
    "print(\"\\nTransposed Data (First 5 Rows):\\n\", transposed_df)\n"
   ]
  },
  {
   "cell_type": "code",
   "execution_count": 7,
   "metadata": {},
   "outputs": [
    {
     "name": "stdout",
     "output_type": "stream",
     "text": [
      "\n",
      "Melted Data:\n",
      "      Type  Category Interaction Type  Value\n",
      "0  Status         2          comment    0.0\n",
      "1   Photo         1          comment    4.0\n",
      "2    Link         1          comment   15.0\n",
      "3  Status         3          comment    2.0\n",
      "4  Status         2          comment   60.0\n"
     ]
    }
   ],
   "source": [
    "# e. Melting Data to long format\n",
    "melted_df = pd.melt(\n",
    "    df,\n",
    "    id_vars=['Type', 'Category'],\n",
    "    value_vars=['comment', 'like', 'share'],\n",
    "    var_name='Interaction Type',\n",
    "    value_name='Value'\n",
    ")\n",
    "\n",
    "print(\"\\nMelted Data:\\n\", melted_df.head())"
   ]
  },
  {
   "cell_type": "code",
   "execution_count": 8,
   "metadata": {},
   "outputs": [
    {
     "name": "stdout",
     "output_type": "stream",
     "text": [
      "\n",
      "Cast Data (Wide Format):\n",
      " Interaction Type    Type  Category    comment        like      share\n",
      "0                   Link         1   7.500000   83.500000  27.500000\n",
      "1                  Photo         1   8.500000  180.250000  25.771429\n",
      "2                  Photo         2  16.523810  267.261905  40.571429\n",
      "3                  Photo         3   6.647059  295.823529  36.323529\n",
      "4                 Status         2  14.117647  190.352941  29.705882\n",
      "5                 Status         3   2.000000  227.000000  36.000000\n",
      "6                  Video         1  12.000000  330.000000  98.500000\n"
     ]
    }
   ],
   "source": [
    "\n",
    "\n",
    "# f. Casting data to wide format (pivoting back)\n",
    "cast_df = melted_df.pivot_table(\n",
    "    index=['Type', 'Category'],\n",
    "    columns='Interaction Type',\n",
    "    values='Value',\n",
    "    aggfunc='mean'\n",
    ").reset_index()\n",
    "\n",
    "print(\"\\nCast Data (Wide Format):\\n\", cast_df)"
   ]
  }
 ],
 "metadata": {
  "kernelspec": {
   "display_name": "Python 3",
   "language": "python",
   "name": "python3"
  },
  "language_info": {
   "codemirror_mode": {
    "name": "ipython",
    "version": 3
   },
   "file_extension": ".py",
   "mimetype": "text/x-python",
   "name": "python",
   "nbconvert_exporter": "python",
   "pygments_lexer": "ipython3",
   "version": "3.9.13"
  }
 },
 "nbformat": 4,
 "nbformat_minor": 2
}
