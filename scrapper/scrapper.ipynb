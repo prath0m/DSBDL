{
 "cells": [
  {
   "cell_type": "code",
   "execution_count": null,
   "metadata": {},
   "outputs": [
    {
     "name": "stdout",
     "output_type": "stream",
     "text": [
      "✅ Reviews saved to reviews.txt\n"
     ]
    }
   ],
   "source": [
    "from bs4 import BeautifulSoup\n",
    "\n",
    "# Load HTML\n",
    "with open(\"Myntra.html\", \"r\", encoding=\"utf-8\") as file:\n",
    "    soup = BeautifulSoup(file, \"lxml\")\n",
    "\n",
    "# Extract reviews\n",
    "reviews = soup.find_all(\"div\", class_=\"user-review-userReviewWrapper\")\n",
    "\n",
    "# Write to file\n",
    "with open(\"reviews.txt\", \"w\", encoding=\"utf-8\") as f:\n",
    "    for review in reviews:\n",
    "        name = review.select_one(\".user-review-left span\")\n",
    "        rating = review.select_one(\".user-review-starRating\")\n",
    "        comment = review.select_one(\".user-review-reviewTextWrapper\")\n",
    "\n",
    "        f.write(f\"Name: {name.get_text(strip=True) if name else 'N/A'}\\n\")\n",
    "        f.write(f\"Rating: {rating.get_text(strip=True) if rating else 'N/A'}\\n\")\n",
    "        f.write(f\"Comment: {comment.get_text(strip=True) if comment else 'N/A'}\\n\")\n",
    "        f.write(\"-\" * 40 + \"\\n\")\n",
    "\n",
    "print(\"✅ Saved to reviews.txt\")"
   ]
  },
  {
   "cell_type": "code",
   "execution_count": null,
   "metadata": {},
   "outputs": [],
   "source": [
    "import json\n",
    "from bs4 import BeautifulSoup\n",
    "\n",
    "# Load HTML\n",
    "with open(\"misho.html\", \"r\", encoding=\"utf-8\") as file:\n",
    "    soup = BeautifulSoup(file, \"lxml\")\n",
    "\n",
    "# Extract <script> tags with JSON-LD\n",
    "scripts = soup.find_all(\"script\", type=\"application/ld+json\")\n",
    "\n",
    "# Find the script that contains reviews\n",
    "for script in scripts:\n",
    "    try:\n",
    "        data = json.loads(script.string)\n",
    "        if isinstance(data, dict) and \"review\" in data:\n",
    "            reviews = data[\"review\"]\n",
    "            # Write extracted reviews to file\n",
    "            with open(\"reviews.txt\", \"w\", encoding=\"utf-8\") as f:\n",
    "                for review in reviews:\n",
    "                    name = review.get(\"author\", {}).get(\"name\", \"N/A\")\n",
    "                    rating = review.get(\"reviewRating\", {}).get(\"ratingValue\", \"N/A\")\n",
    "                    comment = review.get(\"reviewBody\", \"N/A\")\n",
    "                    f.write(f\"Name: {name}\\n\")\n",
    "                    f.write(f\"Rating: {rating}\\n\")\n",
    "                    f.write(f\"Comment: {comment}\\n\")\n",
    "                    f.write(\"-\" * 40 + \"\\n\")\n",
    "            print(\"✅ Reviews saved to reviews.txt\")\n",
    "            break\n",
    "    except json.JSONDecodeError:\n",
    "        continue\n"
   ]
  }
 ],
 "metadata": {
  "kernelspec": {
   "display_name": "Python 3",
   "language": "python",
   "name": "python3"
  },
  "language_info": {
   "codemirror_mode": {
    "name": "ipython",
    "version": 3
   },
   "file_extension": ".py",
   "mimetype": "text/x-python",
   "name": "python",
   "nbconvert_exporter": "python",
   "pygments_lexer": "ipython3",
   "version": "3.9.13"
  }
 },
 "nbformat": 4,
 "nbformat_minor": 2
}
