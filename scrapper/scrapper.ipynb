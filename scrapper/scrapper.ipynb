{
 "cells": [
  {
   "cell_type": "code",
   "execution_count": 2,
   "metadata": {},
   "outputs": [
    {
     "name": "stdout",
     "output_type": "stream",
     "text": [
      "✅ Saved to reviews.txt\n"
     ]
    }
   ],
   "source": [
    "from bs4 import BeautifulSoup\n",
    "\n",
    "# Load HTML\n",
    "with open(\"Myntra.html\", \"r\", encoding=\"utf-8\") as file:\n",
    "    soup = BeautifulSoup(file, \"lxml\")\n",
    "\n",
    "# Extract reviews\n",
    "reviews = soup.find_all(\"div\", class_=\"user-review-userReviewWrapper\")\n",
    "\n",
    "# Write to file\n",
    "with open(\"reviews.txt\", \"w\", encoding=\"utf-8\") as f:\n",
    "    for review in reviews:\n",
    "        name = review.select_one(\".user-review-left span\")\n",
    "        rating = review.select_one(\".user-review-starRating\")\n",
    "        comment = review.select_one(\".user-review-reviewTextWrapper\")\n",
    "\n",
    "        f.write(f\"Name: {name.get_text(strip=True) if name else 'N/A'}\\n\")\n",
    "        f.write(f\"Rating: {rating.get_text(strip=True) if rating else 'N/A'}\\n\")\n",
    "        f.write(f\"Comment: {comment.get_text(strip=True) if comment else 'N/A'}\\n\")\n",
    "        f.write(\"-\" * 40 + \"\\n\")\n",
    "\n",
    "print(\"✅ Saved to reviews.txt\")"
   ]
  },
  {
   "cell_type": "code",
   "execution_count": null,
   "metadata": {},
   "outputs": [],
   "source": []
  }
 ],
 "metadata": {
  "kernelspec": {
   "display_name": "Python 3",
   "language": "python",
   "name": "python3"
  },
  "language_info": {
   "codemirror_mode": {
    "name": "ipython",
    "version": 3
   },
   "file_extension": ".py",
   "mimetype": "text/x-python",
   "name": "python",
   "nbconvert_exporter": "python",
   "pygments_lexer": "ipython3",
   "version": "3.9.13"
  }
 },
 "nbformat": 4,
 "nbformat_minor": 2
}
